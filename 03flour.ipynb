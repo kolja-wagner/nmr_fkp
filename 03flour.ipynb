{
 "cells": [
  {
   "cell_type": "code",
   "execution_count": 1,
   "metadata": {
    "cell_id": "00000-8ecb4dd9-7e89-43fd-8d88-5dcc941839f1",
    "deepnote_cell_type": "code",
    "deepnote_to_be_reexecuted": false,
    "execution_millis": 1926,
    "execution_start": 1643102767897,
    "source_hash": "79521f88",
    "tags": []
   },
   "outputs": [],
   "source": [
    "import matplotlib.pyplot as plt\n",
    "from scipy.signal import find_peaks\n",
    "import pandas as pd\n",
    "import numpy as np"
   ]
  },
  {
   "cell_type": "code",
   "execution_count": 2,
   "metadata": {
    "cell_id": "00001-16bb5573-bbe6-4210-af6e-b3f9f3c27f76",
    "deepnote_cell_type": "code",
    "deepnote_output_heights": [
     155.59375
    ],
    "deepnote_to_be_reexecuted": false,
    "execution_millis": 57,
    "execution_start": 1643102769833,
    "source_hash": "9aa3d5e3",
    "tags": []
   },
   "outputs": [],
   "source": [
    "import file_organizer as fo\n",
    "from file_organizer import Meas\n",
    "\n",
    "from func import ticks_handle\n",
    "from func import fit_t1, fit_t2, fit_t2c"
   ]
  },
  {
   "cell_type": "code",
   "execution_count": 3,
   "metadata": {
    "cell_id": "61523938-de13-4b15-a081-ec65c510dc4d",
    "deepnote_cell_type": "code",
    "deepnote_output_heights": [
     null,
     21.199996948242188,
     null,
     21.199996948242188
    ],
    "deepnote_to_be_reexecuted": false,
    "execution_millis": 7,
    "execution_start": 1643102769906,
    "source_hash": "d36d1293",
    "tags": []
   },
   "outputs": [],
   "source": [
    "path = \"data_day_three\"\n",
    "file_list = fo.load_file_list(path)"
   ]
  },
  {
   "cell_type": "code",
   "execution_count": 4,
   "metadata": {
    "cell_id": "df9db011-9d76-446d-9a94-116677e30a52",
    "deepnote_cell_type": "code",
    "deepnote_to_be_reexecuted": false,
    "execution_millis": 306,
    "execution_start": 1643102769921,
    "source_hash": "c8f74c12",
    "tags": []
   },
   "outputs": [],
   "source": [
    "selection = (fo.select_files(file_list,'meas','P'))\n",
    "# load data to pd.dataFrame\n",
    "data1 = fo.load_files(selection)\n",
    "data1 = fo.df_combine(data1)\n",
    "data1[\"time\"] = data1[\"time\"] * 1000\n",
    "# data.info()\n",
    "del(data1['iout'])\n",
    "del(data1['qout'])\n",
    "names1 = list(data1.columns)\n",
    "names1.remove('time')"
   ]
  },
  {
   "cell_type": "markdown",
   "metadata": {
    "cell_id": "503a3f17-6980-41be-a115-836283ae71c9",
    "deepnote_cell_type": "text-cell-h2",
    "is_collapsed": false,
    "tags": []
   },
   "source": [
    "## FID"
   ]
  },
  {
   "cell_type": "code",
   "execution_count": 5,
   "metadata": {
    "cell_id": "894a9840-07ab-4ad1-93b2-f6c268032671",
    "deepnote_cell_type": "code",
    "deepnote_to_be_reexecuted": false,
    "execution_millis": 6,
    "execution_start": 1643102770236,
    "source_hash": "daa258ca",
    "tags": []
   },
   "outputs": [],
   "source": [
    "from lmfit import Model\n",
    "def fit_t2(t, y, log=False):\n",
    "    def t2func(t,M0,T2,c):#\n",
    "        \n",
    "        return M0*np.exp(-t/T2)+c\n",
    "\n",
    "    model = Model(t2func, nan_policy='omit')\n",
    "    res = model.fit(y, t=t, M0=6,T2=0.05,c=1)\n",
    "    if log: print(res.fit_report())\n",
    "    return res\n"
   ]
  },
  {
   "cell_type": "code",
   "execution_count": 6,
   "metadata": {
    "cell_id": "6dc57c53-983a-4b12-a0e2-0e8c6432ecd7",
    "deepnote_cell_type": "code",
    "deepnote_to_be_reexecuted": false,
    "execution_millis": 15,
    "execution_start": 1643102770255,
    "source_hash": "eac1a157",
    "tags": []
   },
   "outputs": [],
   "source": [
    "zero = (data1['time']-0.1).abs().idxmin()\n",
    "end = (data1['time']-0.8).abs().idxmin()\n",
    "res = fit_t2(np.array(data1.loc[zero:end, 'time']), np.array(data1.loc[zero:end, names1[0]]), log=False)"
   ]
  },
  {
   "cell_type": "code",
   "execution_count": 7,
   "metadata": {
    "cell_id": "3e3cd5e9-3131-41cf-bf87-b5ebb92af473",
    "deepnote_cell_type": "code",
    "deepnote_output_heights": [
     261
    ],
    "deepnote_to_be_reexecuted": false,
    "execution_millis": 1174,
    "execution_start": 1643102770273,
    "source_hash": "9c875abd",
    "tags": []
   },
   "outputs": [
    {
     "data": {
      "image/png": "[encoded data removed]",
      "text/plain": [
       "<Figure size 288x288 with 1 Axes>"
      ]
     },
     "metadata": {
      "needs_background": "light"
     },
     "output_type": "display_data"
    },
    {
     "name": "stdout",
     "output_type": "stream",
     "text": [
      "FLUOR T2*\n",
      "[[Model]]\n",
      "    Model(t2func)\n",
      "[[Fit Statistics]]\n",
      "    # fitting method   = leastsq\n",
      "    # function evals   = 38\n",
      "    # data points      = 3501\n",
      "    # variables        = 3\n",
      "    chi-square         = 171.898136\n",
      "    reduced chi-square = 0.04914183\n",
      "    Akaike info crit   = -10545.6704\n",
      "    Bayesian info crit = -10527.1880\n",
      "[[Variables]]\n",
      "    M0:  12.1761876 +/- 0.06157001 (0.51%) (init = 6)\n",
      "    T2:  0.15777550 +/- 9.0915e-04 (0.58%) (init = 0.05)\n",
      "    c:   0.09458466 +/- 0.00830828 (8.78%) (init = 1)\n",
      "[[Correlations]] (unreported correlations are < 0.100)\n",
      "    C(M0, T2) = -0.890\n",
      "    C(T2, c)  = -0.798\n",
      "    C(M0, c)  = 0.528\n"
     ]
    }
   ],
   "source": [
    "fig,ax = plt.subplots(figsize=(4,4))\n",
    "ax.plot(data1.loc[:,'time'], data1.loc[:, names1[0]], label='Signal')\n",
    "ax.plot(data1.loc[zero:end,'time'], res.best_fit, label='Exp.Fit\\n $M_0\\\\cdot e^{{-t/T_2^*}}+c$')\n",
    "\n",
    "ax.set_xlim(-0.5,1)\n",
    "ax.set_xlabel('Zeit t [ms]')\n",
    "ax.set_ylabel('Induzierte Spannung [V]')\n",
    "ticks_handle(ax, which='both')\n",
    "ax.grid()\n",
    "ax.legend()\n",
    "fig.savefig('IMAGES/fluor_fid.png', dpi=300,bbox_inches='tight')\n",
    "plt.show()\n",
    "print('FLUOR T2*')\n",
    "print(res.fit_report())"
   ]
  },
  {
   "cell_type": "markdown",
   "metadata": {
    "cell_id": "1f59ebe6-be04-4c8b-a880-cc7ca4be79c1",
    "deepnote_cell_type": "text-cell-h2",
    "is_collapsed": false,
    "tags": []
   },
   "source": [
    "## T1 periode"
   ]
  },
  {
   "cell_type": "code",
   "execution_count": 8,
   "metadata": {
    "cell_id": "34afbbb0-6824-4fc7-95dc-b3b28427b187",
    "deepnote_cell_type": "code",
    "deepnote_output_heights": [
     21.1875,
     358
    ],
    "deepnote_to_be_reexecuted": false,
    "execution_millis": 0,
    "execution_start": 1643102771530,
    "source_hash": "3b928ccd",
    "tags": []
   },
   "outputs": [],
   "source": [
    "Ps = np.array([float(m.P) for m in selection])\n",
    "Ms = np.array([data1[n].max() for n in names1])\n",
    "res = fit_t1(Ps, Ms)"
   ]
  },
  {
   "cell_type": "code",
   "execution_count": 9,
   "metadata": {
    "cell_id": "4198d63c-237f-49ec-a630-2fd22a76e66c",
    "deepnote_cell_type": "code",
    "deepnote_output_heights": [
     206,
     210
    ],
    "deepnote_to_be_reexecuted": false,
    "execution_millis": 1986,
    "execution_start": 1643102771547,
    "source_hash": "bfcd340b",
    "tags": []
   },
   "outputs": [
    {
     "data": {
      "image/png": "[encoded data removed]",
      "text/plain": [
       "<Figure size 216x216 with 1 Axes>"
      ]
     },
     "metadata": {
      "needs_background": "light"
     },
     "output_type": "display_data"
    },
    {
     "data": {
      "image/png": "[encoded data removed]",
      "text/plain": [
       "<Figure size 216x216 with 1 Axes>"
      ]
     },
     "metadata": {
      "needs_background": "light"
     },
     "output_type": "display_data"
    },
    {
     "name": "stdout",
     "output_type": "stream",
     "text": [
      "FLUOR T1\n",
      "[[Model]]\n",
      "    Model(fitfunc)\n",
      "[[Fit Statistics]]\n",
      "    # fitting method   = leastsq\n",
      "    # function evals   = 34\n",
      "    # data points      = 21\n",
      "    # variables        = 2\n",
      "    chi-square         = 0.87048199\n",
      "    reduced chi-square = 0.04581484\n",
      "    Akaike info crit   = -62.8478435\n",
      "    Bayesian info crit = -60.7587986\n",
      "[[Variables]]\n",
      "    M0:  5.95528905 +/- 0.10256163 (1.72%) (init = 10)\n",
      "    T1:  0.89630874 +/- 0.04053815 (4.52%) (init = 10)\n",
      "[[Correlations]] (unreported correlations are < 0.100)\n",
      "    C(M0, T1) = 0.738\n"
     ]
    }
   ],
   "source": [
    "split=True\n",
    "if split:\n",
    "    fig1,ax = plt.subplots(figsize=(3,3))\n",
    "    fig2,bx = plt.subplots(figsize=(3,3))\n",
    "else:\n",
    "    fig,(ax,bx) = plt.subplots(1,2, figsize=(6,3), sharey=True)\n",
    "sel = [0, 4, 9, -1,-2]\n",
    "data1.plot(x='time', y=[names1[i] for i in sel],\n",
    "           label=[f'{Ps[i]:4.1f} ms' for i in sel], ax=ax)\n",
    "\n",
    "bx.scatter(Ps,Ms, marker='X', color='black', label='Peaks')\n",
    "for i in sel:\n",
    "    bx.scatter(Ps[i] ,Ms[i], marker='X')\n",
    "bx.plot(Ps, res.best_fit, color='gray',ls='--',label='Exp.Fit\\n $M_0\\\\cdot(1-e{{-t/T_1}})$')\n",
    "\n",
    "\n",
    "ax.set_xlabel('Zeit t [ms]')\n",
    "ax.set_ylabel('Induzierte Spannung [V]')\n",
    "bx.set_xlabel('Periodendauer $P$ [ms]')\n",
    "for xx in [ax, bx]:\n",
    "    xx.legend()\n",
    "    xx.set_ylabel('Induzierte Spannung [V]')\n",
    "    ticks_handle(xx, which='both')\n",
    "    xx.grid()\n",
    "ax.legend(title='$P = $')\n",
    "\n",
    "if split:\n",
    "    fig1.savefig('IMAGES/fluor_t1a.png', dpi=300,bbox_inches='tight')\n",
    "    fig2.savefig('IMAGES/fluor_t1b.png', dpi=300,bbox_inches='tight')\n",
    "else:\n",
    "    fig.savefig('IMAGES/fluor_t1.png', dpi=300,bbox_inches='tight')\n",
    "plt.show()\n",
    "print('FLUOR T1')\n",
    "print(res.fit_report())"
   ]
  },
  {
   "cell_type": "markdown",
   "metadata": {
    "cell_id": "675947d0-3d55-4983-9925-bb9c42d7210d",
    "deepnote_cell_type": "text-cell-h2",
    "is_collapsed": false,
    "tags": []
   },
   "source": [
    "## Fourier"
   ]
  },
  {
   "cell_type": "code",
   "execution_count": 10,
   "metadata": {
    "cell_id": "00009-d947dd54-1ab6-4339-8f44-253cfac85f13",
    "deepnote_cell_type": "code",
    "deepnote_to_be_reexecuted": false,
    "execution_millis": 69,
    "execution_start": 1643102773535,
    "source_hash": "d237e8a5",
    "tags": []
   },
   "outputs": [],
   "source": [
    "selection = fo.select_files(file_list, \"meas\", \"Q\")\n",
    "liste = fo.load_files(selection)\n",
    "liste = liste[1:]\n",
    "\n",
    "#data = fo.df_combine(data)\n",
    "#del data[\"iout\"]\n",
    "\n",
    "#data[\"time\"]=data[\"time\"]*1000\n",
    "#label = list(data.columns)\n",
    "#label.remove('time')\n",
    "#print(liste[0][\"time\"].to_string())\n"
   ]
  },
  {
   "cell_type": "code",
   "execution_count": 11,
   "metadata": {
    "cell_id": "b393ec71-54b6-4a32-9e02-3255bcd35b2a",
    "deepnote_cell_type": "code",
    "deepnote_output_heights": [
     21.199996948242188
    ],
    "deepnote_to_be_reexecuted": false,
    "execution_millis": 1788274,
    "execution_start": 1643102773659,
    "source_hash": "ddab74a6",
    "tags": []
   },
   "outputs": [],
   "source": [
    "def read_with_fourier(meas: Meas):\n",
    "    filename = path+ '/' + meas.filename\n",
    "    df = pd.read_csv(filename)\n",
    "    df.columns = [fo.parse_column_name(c) for c in df.columns]\n",
    "    idx = df[df['time'].str.isalpha()].index\n",
    "    df1 = df.loc[idx[0]+1:idx[1]-2,:].copy()\n",
    "    df2 = df.loc[idx[1]+1:,:].copy()\n",
    "    label = list(df.columns)\n",
    "    for n in label:\n",
    "        df1.loc[:,n] = df1.loc[:,n].astype('float')        \n",
    "        df2[n] = df2[n].astype('float')\n",
    "    return df1, df2"
   ]
  },
  {
   "cell_type": "code",
   "execution_count": 12,
   "metadata": {
    "cell_id": "d675483e-c3b1-445d-8fdc-d009fe6cfe81",
    "deepnote_cell_type": "code",
    "deepnote_output_heights": [
     206,
     206
    ],
    "deepnote_table_loading": false,
    "deepnote_table_state": {
     "filters": [],
     "pageIndex": 1000,
     "pageSize": 10,
     "sortBy": []
    },
    "deepnote_to_be_reexecuted": false,
    "execution_millis": 1520,
    "execution_start": 1643102773659,
    "source_hash": "7eb12c58",
    "tags": []
   },
   "outputs": [
    {
     "data": {
      "image/png": "[encoded data removed]",
      "text/plain": [
       "<Figure size 216x216 with 1 Axes>"
      ]
     },
     "metadata": {
      "needs_background": "light"
     },
     "output_type": "display_data"
    },
    {
     "data": {
      "image/png": "[encoded data removed]",
      "text/plain": [
       "<Figure size 216x216 with 1 Axes>"
      ]
     },
     "metadata": {
      "needs_background": "light"
     },
     "output_type": "display_data"
    }
   ],
   "source": [
    "df1, df2 = read_with_fourier(selection[2])\n",
    "df1 = df1[df1[\"time\"]>0]\n",
    "df1[\"time\"] = df1[\"time\"]*1000\n",
    "\n",
    "if split:\n",
    "    fig1,ax = plt.subplots(figsize=(3,3))\n",
    "    fig2,bx = plt.subplots(figsize=(3,3))\n",
    "else:\n",
    "    fig,(ax,bx) = plt.subplots(1,2, figsize=(6,3))\n",
    "    \n",
    "df1.plot(x='time',ax=ax)\n",
    "df2.plot(x='time',ax=bx)\n",
    "\n",
    "ax.set_ylabel(\"Induzierte Spannung [V]\")\n",
    "ax.set_xlabel(\"Zeit [ms]\")\n",
    "if not split: ax.set_title(\"Verstimmtes Fluor-NMR-Signal\")\n",
    "bx.set_xlabel(\"Frequenz [Hz]\")\n",
    "bx.legend([\"FFT-qout\"])\n",
    "if not split: bx.set_title(\"FFT-Analyse von Q-wout\")\n",
    "ticks_handle(ax, which='both')\n",
    "ticks_handle(bx, which='both')\n",
    "ax.grid()\n",
    "bx.grid()\n",
    "\n",
    "if split:\n",
    "    fig1.savefig('IMAGES/fluor_fft_b.png', dpi=300,bbox_inches='tight')\n",
    "    fig2.savefig('IMAGES/fluor_fft_a.png', dpi=300,bbox_inches='tight')\n",
    "else:\n",
    "    fig.savefig('IMAGES/fluor_fft.png', dpi=300,bbox_inches='tight')\n",
    "plt.show()"
   ]
  },
  {
   "cell_type": "markdown",
   "metadata": {
    "cell_id": "d16f91f3-17b6-4be3-85c0-13fecedb620e",
    "deepnote_cell_type": "markdown",
    "tags": []
   },
   "source": [
    "### FourierTrafo --> verworfen ;)"
   ]
  },
  {
   "cell_type": "code",
   "execution_count": 13,
   "metadata": {
    "cell_id": "e29352d4-246e-4f45-bc7d-faa0227eaa7c",
    "deepnote_cell_type": "code",
    "deepnote_output_heights": [
     21.199996948242188
    ],
    "deepnote_to_be_reexecuted": false,
    "execution_millis": 3,
    "execution_start": 1643102775222,
    "source_hash": "ac369431",
    "tags": []
   },
   "outputs": [
    {
     "name": "stdout",
     "output_type": "stream",
     "text": [
      "Samplingrate\n",
      "6.250E+03\n"
     ]
    }
   ],
   "source": [
    "from scipy.fft import fft, fftfreq, ifft, rfft, irfft, rfftfreq\n",
    "N= df1.size #sample size\n",
    "T = df1[\"time\"][2365]-df1[\"time\"][2364] #sample spacing, inverse rate\n",
    "print(\"Samplingrate\")\n",
    "print(f\"{1/T:.3E}\")"
   ]
  }
 ],
 "metadata": {
  "deepnote": {
   "is_reactive": false
  },
  "deepnote_execution_queue": [],
  "deepnote_notebook_id": "5de87526-41e9-4882-90d6-7c06a03d5ac5",
  "kernelspec": {
   "display_name": "Python 3 (ipykernel)",
   "language": "python",
   "name": "python3"
  },
  "language_info": {
   "codemirror_mode": {
    "name": "ipython",
    "version": 3
   },
   "file_extension": ".py",
   "mimetype": "text/x-python",
   "name": "python",
   "nbconvert_exporter": "python",
   "pygments_lexer": "ipython3",
   "version": "3.9.7"
  }
 },
 "nbformat": 4,
 "nbformat_minor": 2
}
