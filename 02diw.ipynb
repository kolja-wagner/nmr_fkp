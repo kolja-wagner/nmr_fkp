{
 "cells": [
  {
   "cell_type": "code",
   "execution_count": 2,
   "metadata": {
    "cell_id": "00000-228f4fd1-ca59-441f-90ad-6041d41bb478",
    "deepnote_cell_type": "code",
    "deepnote_to_be_reexecuted": false,
    "execution_millis": 1703,
    "execution_start": 1643102736747,
    "source_hash": "9dd37ced",
    "tags": []
   },
   "outputs": [],
   "source": [
    "# -*- coding: utf-8 -*-\n",
    "import matplotlib.pyplot as plt\n",
    "import file_organizer as fo\n",
    "\n",
    "from func import fit_t2\n",
    "from func import ticks_handle\n",
    "from scipy.signal import find_peaks"
   ]
  },
  {
   "cell_type": "markdown",
   "metadata": {
    "cell_id": "e2dbade0-8598-43c3-b228-1cf9fb6490e0",
    "deepnote_cell_type": "text-cell-h2",
    "is_collapsed": false,
    "tags": []
   },
   "source": [
    "## Water: FID"
   ]
  },
  {
   "cell_type": "code",
   "execution_count": 3,
   "metadata": {
    "cell_id": "74fbe1d9-01dc-4a0c-b5a2-1d4ad9dd105f",
    "deepnote_cell_type": "code",
    "deepnote_to_be_reexecuted": false,
    "execution_millis": 36,
    "execution_start": 1643102738458,
    "source_hash": "29023f04",
    "tags": []
   },
   "outputs": [],
   "source": [
    "path = 'data_day_three'\n",
    "file_list = fo.load_file_list(path)"
   ]
  },
  {
   "cell_type": "code",
   "execution_count": 4,
   "metadata": {
    "cell_id": "356d58cf-e390-4641-a1ef-bb280124bcd1",
    "deepnote_cell_type": "code",
    "deepnote_output_heights": [
     40.390625
    ],
    "deepnote_to_be_reexecuted": false,
    "execution_millis": 29,
    "execution_start": 1643102738499,
    "source_hash": "a9aaad39",
    "tags": []
   },
   "outputs": [],
   "source": [
    "selection = (fo.select_files(file_list,'meas','N'))\n",
    "# load data to pd.dataFrame\n",
    "data1 = fo.load_files(selection)\n",
    "data1 = fo.df_combine(data1)\n",
    "data1[\"time\"] = data1[\"time\"] * 1000\n",
    "\n",
    "# data.info()\n",
    "del(data1['iout'])\n",
    "\n",
    "names1 = list(data1.columns)\n",
    "names1.remove('time')"
   ]
  },
  {
   "cell_type": "code",
   "execution_count": 5,
   "metadata": {
    "cell_id": "4f59ca03-968f-4690-8834-87fabc80d980",
    "deepnote_cell_type": "code",
    "deepnote_to_be_reexecuted": false,
    "execution_millis": 6,
    "execution_start": 1643102738538,
    "source_hash": "96d13b3c",
    "tags": []
   },
   "outputs": [],
   "source": [
    "from lmfit import Model\n",
    "import numpy as np\n",
    " \n",
    "def fit_t2s(t, y, log=False):\n",
    "    def t2func(t, M0, T2,c):#\n",
    "        return M0*np.exp(-t/T2)+c\n",
    "\n",
    "    model = Model(t2func, nan_policy='omit')\n",
    "    res = model.fit(y, t=t, M0=1, T2=20,c=0)\n",
    "    if log: print(res.fit_report())\n",
    "    return res"
   ]
  },
  {
   "cell_type": "code",
   "execution_count": 6,
   "metadata": {
    "cell_id": "334c382a-de2b-4aa0-9420-e316d8caf4f1",
    "deepnote_cell_type": "code",
    "deepnote_output_heights": [
     155.59375,
     559.390625
    ],
    "deepnote_to_be_reexecuted": false,
    "execution_millis": 24,
    "execution_start": 1643102738550,
    "source_hash": "52618545",
    "tags": []
   },
   "outputs": [],
   "source": [
    "zero = data1[names1[0]].abs().idxmax()\n",
    "end = (data1['time']-18).abs().idxmin()\n",
    "res = fit_t2s(np.array(data1.loc[zero:end, 'time']), np.array(data1.loc[zero:end, names1[0]]), log=False)"
   ]
  },
  {
   "cell_type": "code",
   "execution_count": 7,
   "metadata": {
    "cell_id": "3c9a5719-acc6-4209-9a0c-eec41205743d",
    "deepnote_cell_type": "code",
    "deepnote_output_heights": [
     null,
     261
    ],
    "deepnote_to_be_reexecuted": false,
    "execution_millis": 1245,
    "execution_start": 1643102738604,
    "source_hash": "fb58ed4e",
    "tags": []
   },
   "outputs": [
    {
     "name": "stdout",
     "output_type": "stream",
     "text": [
      "[[Model]]\n",
      "    Model(t2func)\n",
      "[[Fit Statistics]]\n",
      "    # fitting method   = leastsq\n",
      "    # function evals   = 40\n",
      "    # data points      = 8924\n",
      "    # variables        = 3\n",
      "    chi-square         = 120.453764\n",
      "    reduced chi-square = 0.01350227\n",
      "    Akaike info crit   = -38413.9045\n",
      "    Bayesian info crit = -38392.6150\n",
      "[[Variables]]\n",
      "    M0:  2.97466919 +/- 0.00924905 (0.31%) (init = 1)\n",
      "    T2:  0.88955229 +/- 0.00413779 (0.47%) (init = 20)\n",
      "    c:   0.42702882 +/- 0.00158576 (0.37%) (init = 0)\n",
      "[[Correlations]] (unreported correlations are < 0.100)\n",
      "    C(M0, T2) = -0.689\n",
      "    C(T2, c)  = -0.499\n"
     ]
    },
    {
     "data": {
      "image/png": "[encoded data removed]",
      "text/plain": [
       "<Figure size 288x288 with 1 Axes>"
      ]
     },
     "metadata": {
      "needs_background": "light"
     },
     "output_type": "display_data"
    }
   ],
   "source": [
    "fig,ax = plt.subplots(figsize=(4,4))\n",
    "ax.plot(data1.loc[zero:,'time'], data1.loc[zero:, names1[0]], label='Signal')\n",
    "ax.plot(data1.loc[zero:end,'time'], res.best_fit, label='Exp.Fit\\n $M_0\\\\cdot e^{{-t/T_2^*}}+c$')\n",
    "\n",
    "ax.set_xlabel('Zeit t [ms]')\n",
    "ax.set_ylabel('Induzierte Spannung [V]')\n",
    "ticks_handle(ax, which='both')\n",
    "ax.grid()\n",
    "ax.legend()\n",
    "fig.savefig('IMAGES/diw_fid.png', dpi=300,bbox_inches='tight')\n",
    "\n",
    "print(res.fit_report())"
   ]
  },
  {
   "cell_type": "markdown",
   "metadata": {
    "cell_id": "00001-42b79066-e34c-4489-8fbd-f458c00420f9",
    "deepnote_cell_type": "text-cell-h2",
    "is_collapsed": false,
    "tags": []
   },
   "source": [
    "## Destilliertes Wasser: T2 Zeit"
   ]
  },
  {
   "cell_type": "code",
   "execution_count": 8,
   "metadata": {
    "cell_id": "407f9f82-e211-4f47-a940-56819aa4c45d",
    "deepnote_cell_type": "code",
    "deepnote_output_heights": [
     382.1875
    ],
    "deepnote_to_be_reexecuted": false,
    "execution_millis": 128,
    "execution_start": 1643102739855,
    "source_hash": "7e4050e0",
    "tags": []
   },
   "outputs": [],
   "source": [
    "selection2 = (fo.select_files(file_list,'meas','M'))\n",
    "\n",
    "# load data to pd.dataFrame\n",
    "data2 = fo.load_files(selection2)\n",
    "data2 = fo.df_combine(data2)\n",
    "data2[\"time\"] = data2[\"time\"] * 1000\n",
    "\n",
    "# data.info()\n",
    "del(data2['iout'])\n",
    "\n",
    "names2 = list(data2.columns)\n",
    "names2.remove('time')"
   ]
  },
  {
   "cell_type": "code",
   "execution_count": 9,
   "metadata": {
    "cell_id": "ada41154-63aa-4109-bfe3-7789dd237330",
    "deepnote_cell_type": "code",
    "deepnote_to_be_reexecuted": false,
    "execution_millis": 45,
    "execution_start": 1643102739987,
    "source_hash": "6bbd687d",
    "tags": []
   },
   "outputs": [],
   "source": [
    "peaks = {n: find_peaks(data2[n], distance=400, height=0.6)[0][2:] for n in names2}\n",
    "ptimes = {n: data2.loc[peaks[n], 'time'] for n in names2}\n",
    "pvalues = {n: data2.loc[peaks[n], n] for n in names2}\n",
    "results = {n: fit_t2(ptimes[n], pvalues[n]) for n in names2}"
   ]
  },
  {
   "cell_type": "code",
   "execution_count": 10,
   "metadata": {
    "cell_id": "bb4bf670-08d4-4dfc-86d6-51e23c0235ed",
    "deepnote_cell_type": "code",
    "deepnote_output_heights": [
     null,
     206
    ],
    "deepnote_to_be_reexecuted": false,
    "execution_millis": 1298,
    "execution_start": 1643102740041,
    "source_hash": "30cc8715",
    "tags": []
   },
   "outputs": [
    {
     "name": "stdout",
     "output_type": "stream",
     "text": [
      "signal_171 T2= 999.6126438391773\n"
     ]
    },
    {
     "data": {
      "image/png": "[encoded data removed]",
      "text/plain": [
       "<Figure size 432x216 with 1 Axes>"
      ]
     },
     "metadata": {
      "needs_background": "light"
     },
     "output_type": "display_data"
    }
   ],
   "source": [
    "fig,ax=plt.subplots(figsize=(6,3))\n",
    "sel = [names2[0]]#, names2[2], names2[3], names2[4]]\n",
    "data2.plot(x='time', y=sel[0], ax=ax, label='Signal')\n",
    "for n in sel:\n",
    "    ax.scatter(ptimes[n], pvalues[n], marker='X', label='Peaks')\n",
    "    ax.plot(ptimes[n], results[n].best_fit, label='Exp.Fit\\n $M_0\\\\cdot e^{{-t/T_2}}+c$')\n",
    "    ax.legend()\n",
    "    print(n, 'T2=',results[n].values['T2'])\n",
    "ax.set_xlabel('Zeit t [ms]')\n",
    "ax.set_xlim(-50, 1900)\n",
    "ax.set_ylim(-0.2,3.7)\n",
    "ax.set_ylabel('Induzierte Spannung [V]')\n",
    "ticks_handle(ax, which='both')\n",
    "ax.grid()\n",
    "ax.legend()\n",
    "fig.savefig('IMAGES/diw_exam.png', dpi=300,bbox_inches='tight')\n"
   ]
  },
  {
   "cell_type": "code",
   "execution_count": 11,
   "metadata": {
    "cell_id": "33bce47e-bbc2-4707-8def-ed4773d6873e",
    "deepnote_cell_type": "code",
    "deepnote_output_heights": [
     null,
     206
    ],
    "deepnote_to_be_reexecuted": false,
    "execution_millis": 1166,
    "execution_start": 1643102741341,
    "source_hash": "385f6936",
    "tags": []
   },
   "outputs": [
    {
     "name": "stdout",
     "output_type": "stream",
     "text": [
      "signal_171 T2= 999.6126438391773\n",
      "signal_173 T2= 1015.3724015837577\n",
      "signal_174 T2= 1022.0529428104253\n",
      "signal_175 T2= 1010.3758211689335\n"
     ]
    },
    {
     "data": {
      "image/png": "[encoded data removed]",
      "text/plain": [
       "<Figure size 432x216 with 1 Axes>"
      ]
     },
     "metadata": {
      "needs_background": "light"
     },
     "output_type": "display_data"
    }
   ],
   "source": [
    "sel = [names2[0], names2[2], names2[3], names2[4]]\n",
    "fig,ax=plt.subplots(figsize=(6,3))\n",
    "\n",
    "ax.scatter([],[], marker='X', color='black', label='Peaks')\n",
    "ax.plot([],[], color='black', label='Exp. Fit')\n",
    "for n in sel:\n",
    "    t2string = f'{results[n].params[\"T2\"].value:4.0f} $\\\\pm$ {results[n].params[\"T2\"].stderr:2.0f} ms'\n",
    "\n",
    "    ax.scatter(ptimes[n], pvalues[n], marker='X')\n",
    "    ax.plot(ptimes[n], results[n].best_fit, label=f'$T_2=${t2string}')\n",
    "    print(n, 'T2=',results[n].values['T2'])\n",
    "\n",
    "ax.set_xlabel('Zeit t [ms]')\n",
    "ax.set_ylim(-0.2,4.2)\n",
    "ax.set_xlim(-50, 1900)\n",
    "ax.set_ylabel('Induzierte Spannung [V]')\n",
    "ticks_handle(ax, which='both')\n",
    "ax.grid()\n",
    "ax.legend()\n",
    "fig.savefig('IMAGES/diw_result.png', dpi=300,bbox_inches='tight')\n",
    "plt.show()\n"
   ]
  },
  {
   "cell_type": "code",
   "execution_count": 12,
   "metadata": {
    "cell_id": "9ecd5852-1cd0-4921-8d18-3614c64ea39a",
    "deepnote_cell_type": "code",
    "deepnote_output_heights": [
     null,
     21.1875
    ],
    "deepnote_to_be_reexecuted": false,
    "execution_millis": 8,
    "execution_start": 1643102742518,
    "source_hash": "5ce6d0d2",
    "tags": []
   },
   "outputs": [
    {
     "name": "stdout",
     "output_type": "stream",
     "text": [
      "signal_171\n",
      "<Parameter 'T2', value=999.6126438391773 +/- 18.3, bounds=[-inf:inf]>\n",
      "<Parameter 'M0', value=3.0525221941111376 +/- 0.0349, bounds=[-inf:inf]>\n",
      "0.009094769982420769\n",
      "\n",
      "signal_173\n",
      "<Parameter 'T2', value=1015.3724015837577 +/- 16.5, bounds=[-inf:inf]>\n",
      "<Parameter 'M0', value=3.054430552996571 +/- 0.0305, bounds=[-inf:inf]>\n",
      "0.007009375411520026\n",
      "\n",
      "signal_174\n",
      "<Parameter 'T2', value=1022.0529428104253 +/- 21.8, bounds=[-inf:inf]>\n",
      "<Parameter 'M0', value=2.9616193409529483 +/- 0.039, bounds=[-inf:inf]>\n",
      "0.011556850619018025\n",
      "\n",
      "signal_175\n",
      "<Parameter 'T2', value=1010.3758211689335 +/- 24.4, bounds=[-inf:inf]>\n",
      "<Parameter 'M0', value=2.940819896318659 +/- 0.0438, bounds=[-inf:inf]>\n",
      "0.014397901541647676\n",
      "\n"
     ]
    },
    {
     "data": {
      "text/plain": [
       "1011.8534523505734"
      ]
     },
     "execution_count": 12,
     "metadata": {},
     "output_type": "execute_result"
    }
   ],
   "source": [
    "for n in sel:\n",
    "    print(n)\n",
    "    print(results[n].params['T2'])\n",
    "    print(results[n].params['M0'])\n",
    "    print(results[n].redchi)\n",
    "    print()\n",
    "\n",
    "np.mean([results[n].params['T2'].value for n in sel])"
   ]
  },
  {
   "cell_type": "code",
   "execution_count": 13,
   "metadata": {
    "cell_id": "6be7c0e9-72b6-4744-82ed-68be7e52be37",
    "deepnote_cell_type": "code",
    "deepnote_output_heights": [
     21.1875
    ],
    "deepnote_to_be_reexecuted": false,
    "execution_millis": 1,
    "execution_start": 1643102742570,
    "source_hash": "f28f062b",
    "tags": []
   },
   "outputs": [
    {
     "data": {
      "text/plain": [
       "12.2"
      ]
     },
     "execution_count": 13,
     "metadata": {},
     "output_type": "execute_result"
    }
   ],
   "source": [
    "24.4/2"
   ]
  }
 ],
 "metadata": {
  "deepnote": {
   "is_reactive": false
  },
  "deepnote_execution_queue": [],
  "deepnote_notebook_id": "d3011abe-0158-4f10-b23f-cf4316b6e7a3",
  "kernelspec": {
   "display_name": "Python 3 (ipykernel)",
   "language": "python",
   "name": "python3"
  },
  "language_info": {
   "codemirror_mode": {
    "name": "ipython",
    "version": 3
   },
   "file_extension": ".py",
   "mimetype": "text/x-python",
   "name": "python",
   "nbconvert_exporter": "python",
   "pygments_lexer": "ipython3",
   "version": "3.9.7"
  }
 },
 "nbformat": 4,
 "nbformat_minor": 2
}
